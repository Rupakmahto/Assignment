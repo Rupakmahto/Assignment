{
 "cells": [
  {
   "cell_type": "markdown",
   "id": "190154eb-9294-4b37-8ca8-685d49938611",
   "metadata": {},
   "source": [
    "## For Loop\n",
    "# A for loop is used for iterating over a sequence (Eg list, tuple, dictionary, set,string,range).\n",
    "# A for loop is user when  we know where the iteration is going to start and end. "
   ]
  },
  {
   "cell_type": "code",
   "execution_count": 5,
   "id": "d31966a4-0a7f-4a3b-990b-956a895592da",
   "metadata": {},
   "outputs": [
    {
     "name": "stdin",
     "output_type": "stream",
     "text": [
      "Enter the number 12\n"
     ]
    },
    {
     "name": "stdout",
     "output_type": "stream",
     "text": [
      "12 * 1 = 12\n",
      "12 * 2 = 24\n",
      "12 * 3 = 36\n",
      "12 * 4 = 48\n",
      "12 * 5 = 60\n",
      "12 * 6 = 72\n",
      "12 * 7 = 84\n",
      "12 * 8 = 96\n",
      "12 * 9 = 108\n",
      "12 * 10 = 120\n"
     ]
    }
   ],
   "source": [
    "User_input = int(input(\"Enter the number\" ))\n",
    "for i in range(1,11):\n",
    "    print(User_input,\"*\",i,\"=\",User_input*i)"
   ]
  },
  {
   "cell_type": "markdown",
   "id": "34ff7ec2-20b1-4e07-9119-08f8d9c77ac0",
   "metadata": {},
   "source": [
    "## While loop\n",
    "# While loop statements in Python are used to repeatedly execute a certain statement as long as the condition provided in the while loop statement stays true.\n",
    "## While loop is used where we dont know when to start and when to end in any itteration"
   ]
  },
  {
   "cell_type": "code",
   "execution_count": 6,
   "id": "dcc2d8ac-7ce5-47ec-b7a8-c864cf31ecbc",
   "metadata": {},
   "outputs": [
    {
     "name": "stdin",
     "output_type": "stream",
     "text": [
      "Enter the password bfg\n",
      "Enter the password Deloitte\n"
     ]
    },
    {
     "name": "stdout",
     "output_type": "stream",
     "text": [
      "Unlock\n"
     ]
    }
   ],
   "source": [
    "Enter_password =input(\"Enter the password\" ) \n",
    "password = \"Deloitte\"\n",
    "while Enter_password != password:\n",
    "    Enter_password =input(\"Enter the password\" ) \n",
    "else:\n",
    "    print(\"Unlock\")"
   ]
  },
  {
   "cell_type": "code",
   "execution_count": 23,
   "id": "e250f061-92ef-4dbb-8e6d-0d2ae2907ee5",
   "metadata": {},
   "outputs": [
    {
     "name": "stdin",
     "output_type": "stream",
     "text": [
      "Enter the password rupak\n",
      "Enter the password mahto\n",
      "Enter the password deloitte\n"
     ]
    },
    {
     "name": "stdout",
     "output_type": "stream",
     "text": [
      "Unlock\n"
     ]
    }
   ],
   "source": [
    "Enter_password = input(\"Enter the password\")\n",
    "password = \"deloitte\"\n",
    "while Enter_password!=password:\n",
    "    Enter_password = input(\"Enter the password\")\n",
    "else:\n",
    "    print(\"Unlock\")"
   ]
  },
  {
   "cell_type": "markdown",
   "id": "ae83fe4f-6ccf-414a-9f16-14b960046c7a",
   "metadata": {},
   "source": [
    "'''## Q2. Write a python program to print the sum and product of the first 10 natural numbers using for\n",
    "and while loop.'''\n",
    "    "
   ]
  },
  {
   "cell_type": "code",
   "execution_count": 7,
   "id": "b05f8bdf-41ee-4585-8eca-1a2d30bd0dee",
   "metadata": {},
   "outputs": [
    {
     "name": "stdout",
     "output_type": "stream",
     "text": [
      "The sum of first 10 natural number is:   55\n"
     ]
    }
   ],
   "source": [
    "## Using for loop\n",
    "sum = 0\n",
    "for i in range(1,11):\n",
    "    sum = sum +i\n",
    "print(\"The sum of first 10 natural number is:  \",sum)"
   ]
  },
  {
   "cell_type": "code",
   "execution_count": 8,
   "id": "10560bcb-87bb-4340-aabb-a6f73b531d43",
   "metadata": {},
   "outputs": [
    {
     "name": "stdout",
     "output_type": "stream",
     "text": [
      "The sum of first 10 natural number is:   55\n"
     ]
    }
   ],
   "source": [
    "### Using while loop\n",
    "sum = 0\n",
    "i = 1\n",
    "while i <=10:\n",
    "    sum =sum +i\n",
    "    i = i+1\n",
    "print(\"The sum of first 10 natural number is:  \",sum)"
   ]
  },
  {
   "cell_type": "markdown",
   "id": "6c9fdfdd-7a6e-4490-985b-5e9e8840bd28",
   "metadata": {},
   "source": [
    "##Q3. Create a python program to compute the electricity bill for a household.\n",
    "The per-unit charges in rupees are as follows: For the first 100 units, the user will be charged Rs. 4.5 per\n",
    "unit, for the next 100 units, the user will be charged Rs. 6 per unit, and for the next 100 units, the user will\n",
    "be charged Rs. 10 per unit, After 300 units and above the user will be charged Rs. 20 per unit."
   ]
  },
  {
   "cell_type": "code",
   "execution_count": 9,
   "id": "d52d91ae-5df9-49f3-9c4f-6c563a40421a",
   "metadata": {},
   "outputs": [
    {
     "name": "stdin",
     "output_type": "stream",
     "text": [
      "Enter the umits consumed 310\n"
     ]
    },
    {
     "name": "stdout",
     "output_type": "stream",
     "text": [
      "2250.0\n"
     ]
    }
   ],
   "source": [
    "unit = int(input(\"Enter the umits consumed\"  ))\n",
    "if unit <=100:\n",
    "    Bill = 4.5*unit\n",
    "elif unit >100 and unit<=200:\n",
    "    Bill = 4.5*100 + (unit-100)*6\n",
    "elif unit>200 and unit<=300:\n",
    "    Bill = 4.5*100 + 6*100 + (unit - 200)*10\n",
    "else:\n",
    "    Bill = 4.5*100 + 6*100 + 100*10 + (unit - 300)*20\n",
    "print (Bill)  "
   ]
  },
  {
   "cell_type": "markdown",
   "id": "aecc1bec-2129-4694-be11-1cbb8e586084",
   "metadata": {},
   "source": [
    "#Q4. Create a list of numbers from 1 to 100. Use for loop and while loop to calculate the cube of each\n",
    "number and if the cube of that number is divisible by 4 or 5 then append that number in a list and print\n",
    "that list."
   ]
  },
  {
   "cell_type": "code",
   "execution_count": 11,
   "id": "3d29c209-a901-47bc-9978-c23784fbd953",
   "metadata": {},
   "outputs": [],
   "source": [
    "a = list(range(1,100))"
   ]
  },
  {
   "cell_type": "code",
   "execution_count": 12,
   "id": "4b188c39-541d-4987-a4e8-e516a8cef3a5",
   "metadata": {},
   "outputs": [
    {
     "name": "stdout",
     "output_type": "stream",
     "text": [
      "[2, 4, 5, 6, 8, 10, 12, 14, 15, 16, 18, 20, 22, 24, 25, 26, 28, 30, 32, 34, 35, 36, 38, 40, 42, 44, 45, 46, 48, 50, 52, 54, 55, 56, 58, 60, 62, 64, 65, 66, 68, 70, 72, 74, 75, 76, 78, 80, 82, 84, 85, 86, 88, 90, 92, 94, 95, 96, 98]\n"
     ]
    }
   ],
   "source": [
    "l1 = []\n",
    "for i in a:\n",
    "    if (i**3)%4==0 or (i**3)%5==0:\n",
    "        l1.append(i)\n",
    "print(l1)\n",
    "        \n",
    "        "
   ]
  },
  {
   "cell_type": "markdown",
   "id": "8169e584-5d09-4873-a82b-c7a42bd5651f",
   "metadata": {},
   "source": [
    "Q5. Write a program to filter count vowels in the below-given string.\n",
    "string = \"I want to become a data scientist\""
   ]
  },
  {
   "cell_type": "code",
   "execution_count": 14,
   "id": "9666900e-f6ef-45d2-a20d-af6206a5c06b",
   "metadata": {},
   "outputs": [
    {
     "name": "stdin",
     "output_type": "stream",
     "text": [
      "Enter the string i want to become a data scientist\n"
     ]
    },
    {
     "name": "stdout",
     "output_type": "stream",
     "text": [
      "12\n"
     ]
    }
   ],
   "source": [
    "v = [ 'a','e','i','o','u']\n",
    "str1 = input (\"Enter the string\"  )\n",
    "str2 = str1.lower()\n",
    "count = 0\n",
    "for i in str2:\n",
    "    if i in  v:\n",
    "        count = count + 1\n",
    "print(count)"
   ]
  },
  {
   "cell_type": "code",
   "execution_count": null,
   "id": "ba73db28-ad6e-4e12-9bd5-9d2a1f16a995",
   "metadata": {},
   "outputs": [],
   "source": []
  },
  {
   "cell_type": "code",
   "execution_count": null,
   "id": "6f8ff292-cb28-4052-8bfb-ab3dfcb5e18c",
   "metadata": {},
   "outputs": [],
   "source": []
  }
 ],
 "metadata": {
  "kernelspec": {
   "display_name": "Python 3 (ipykernel)",
   "language": "python",
   "name": "python3"
  },
  "language_info": {
   "codemirror_mode": {
    "name": "ipython",
    "version": 3
   },
   "file_extension": ".py",
   "mimetype": "text/x-python",
   "name": "python",
   "nbconvert_exporter": "python",
   "pygments_lexer": "ipython3",
   "version": "3.9.12"
  }
 },
 "nbformat": 4,
 "nbformat_minor": 5
}
